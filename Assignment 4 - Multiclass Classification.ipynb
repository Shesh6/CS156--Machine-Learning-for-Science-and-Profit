{
  "nbformat": 4,
  "nbformat_minor": 0,
  "metadata": {
    "colab": {
      "name": "CS156 Assignment 4.ipynb",
      "version": "0.3.2",
      "provenance": []
    },
    "kernelspec": {
      "name": "python3",
      "display_name": "Python 3"
    }
  },
  "cells": [
    {
      "metadata": {
        "id": "fTRUXl3xIHUr",
        "colab_type": "text"
      },
      "cell_type": "markdown",
      "source": [
        "###CS156 Assignment 4: MNIST Digits\n",
        "_Yoav Rabinovich, Oct 2018_\n",
        "\n",
        "-------------------------"
      ]
    },
    {
      "metadata": {
        "id": "gowrj5MHGrLQ",
        "colab_type": "text"
      },
      "cell_type": "markdown",
      "source": [
        "For this assignment, the instructions were vauge on whether we should train a classifier for two digits, or plot the two digits and do multiclass classification for the rest of the assignment. I chose the latter (albeit less likely), so that I can get an opportunity to talk about multiclass classification. This has vastly (see below) lengthened training times, so I trained on 50% of the dataset by sampling randomly from the original.\n",
        "\n",
        "__Multiclass Classification by solving multiple binary classification problems__\n",
        "\n",
        "Multiclass classification is usually handeled by creating several binary classifiers and aggragating their results. The two prevalent methods are called \"One vs One\" and \"One vs Rest\". Other strategies and other methods that are used today, but I focus on the most popular.\n",
        "\n",
        "__One vs One__\n",
        "\n",
        "In OvO multiclass classification, a classifier is built for every pair in the output space, classifying, for out purposes, every number into either a 1 or a 2, then into either a 1 or a 3 and so on.  This results in building $\\frac{K(K-1)}{2}$ separate classifiers, where $K$ is the size of the output space, each trained on the relevant samples from the training data. When a test sample is introduced, each classifier casts a vote and the class most voted for is picked. In our case, hopefully all 9 classifiers associated with the digit 1 vote for 1 when a test 1 is seen, where no other number will get similar success. The classifiers associated with 7 might all vote 7, save the 7-1 classifier, which would turn the tide. If it doesn't, OvO classification can run into ties, usually broken randomly.\n",
        "\n",
        "__One vs Rest__\n",
        "\n",
        "In OvR multiclass classification, only $K$ classifiers are needed, one per output class. Each classifier is trained on the entire dataset, relabling all classes but one as \"rest\", and distinguishing the chosen class from any of them. While this drastically lowers the number of classifiers, voting is clearly not a strong enough decision function for the problem with only $K$ voters. For this reason, OvR emplys classifiers that output a confidence level, and chooses the class who's classifier outputs the strongest confidence for a given test sample. For a 1 sample, we would hoe the 1 classifier outputs for example a confidence of 0.97, while the 7 classifier would output 0.84. However, the classifiers are trained with a large number of negative samples by design, which would lead to a hard bias for negative classification. Additionally, the hidden assumption that all classifiers would behave similarly with regards to variance ad mean in output confidence levels, that might not be the case, and a strong classification for 7, say 0.9, might actually correspond to a lower number for the 1 classifier, say 0.8, leading to a bias towards high-variance classifiers in the final decision.\n",
        "\n",
        "SKLearn's SVC method uses One vs One for multiclass classification. This meant that for all 63 fits computed in my grid search over kernels, kernel parameters and error penalty parameters, $\\frac{10(9)}{2}=45$ classifiers were trained, resulting in  2,835 fits overall. For this reason I used only 50% of the dataset for training, as described above, and still the training took 2 hours. My computer crashed while I was working, and so the final part reporting times and error is done with information from a previous run with 25,000 samples."
      ]
    },
    {
      "metadata": {
        "id": "2NKyhQgLmMcg",
        "colab_type": "code",
        "colab": {}
      },
      "cell_type": "code",
      "source": [
        "# Imports\n",
        "from sklearn.datasets import fetch_mldata\n",
        "from shutil import copyfileobj\n",
        "from six.moves import urllib\n",
        "from sklearn.datasets.base import get_data_home\n",
        "import os\n",
        "from matplotlib import pyplot as plt\n",
        "import pandas as pd\n",
        "import numpy as np\n",
        "from sklearn.model_selection import GridSearchCV\n",
        "from sklearn.svm import SVC\n",
        "from sklearn.model_selection import train_test_split\n",
        "from sklearn.metrics import classification_report, confusion_matrix"
      ],
      "execution_count": 0,
      "outputs": []
    },
    {
      "metadata": {
        "id": "4IqtHmZlIS_Q",
        "colab_type": "code",
        "colab": {}
      },
      "cell_type": "code",
      "source": [
        "# Import dataset (From Slack)\n",
        "\n",
        "def fetch_mnist(data_home=None):\n",
        "    mnist_alternative_url = \"https://github.com/amplab/datascience-sp14/raw/master/lab7/mldata/mnist-original.mat\"\n",
        "    data_home = get_data_home(data_home=data_home)\n",
        "    data_home = os.path.join(data_home, 'mldata')\n",
        "    if not os.path.exists(data_home):\n",
        "        os.makedirs(data_home)\n",
        "    mnist_save_path = os.path.join(data_home, \"mnist-original.mat\")\n",
        "    if not os.path.exists(mnist_save_path):\n",
        "        mnist_url = urllib.request.urlopen(mnist_alternative_url)\n",
        "        with open(mnist_save_path, \"wb\") as matlab_file:\n",
        "            copyfileobj(mnist_url, matlab_file)\n",
        "\n",
        "fetch_mnist()\n",
        "mnist = fetch_mldata(\"MNIST original\")"
      ],
      "execution_count": 0,
      "outputs": []
    },
    {
      "metadata": {
        "id": "wEWpGeyDolZT",
        "colab_type": "code",
        "colab": {}
      },
      "cell_type": "code",
      "source": [
        "# Convert to Pandas Dataframe\n",
        "digits = pd.DataFrame(index=range(len(mnist[\"data\"])),columns=[\"data\",\"label\"])\n",
        "digits[\"data\"] = pd.Series(list(mnist[\"data\"]))\n",
        "digits[\"label\"]=pd.Series(mnist[\"target\"])\n",
        "# Take randomized subset to optimize training time\n",
        "size = 35000\n",
        "digits = digits.sample(size)\n",
        "digits = digits.reset_index(drop=True)"
      ],
      "execution_count": 0,
      "outputs": []
    },
    {
      "metadata": {
        "id": "lOKR19siI_XX",
        "colab_type": "code",
        "outputId": "485ab8a9-3883-4861-a4ca-a4c251f16285",
        "colab": {
          "base_uri": "https://localhost:8080/",
          "height": 291
        }
      },
      "cell_type": "code",
      "source": [
        "# Plotting sample pictures of my favorite digits\n",
        "\n",
        "# Collect examples\n",
        "sixs = []\n",
        "# Confuse your enemies\n",
        "nines = []\n",
        "for i in range(len(digits[\"data\"])):\n",
        "  if (digits[\"label\"][i]==6) and (len(sixs)<6):\n",
        "    pixels = digits[\"data\"][i].reshape((28, 28))\n",
        "    sixs.append(pixels)\n",
        "  if (digits[\"label\"][i]==8) and (len(nines)<6):\n",
        "    pixels = digits[\"data\"][i].reshape((28, 28))\n",
        "    nines.append(pixels)\n",
        "  if len(sixs)+len(nines)==11:\n",
        "    break\n",
        "    \n",
        "# Plot examples, but not as if they're written in chalk because that's boring\n",
        "for i in range(5):\n",
        "  plt.subplot(2,5,i+1)\n",
        "  plt.imshow(sixs[i],cmap=\"Oranges\")\n",
        "  plt.axis('off')\n",
        "  plt.subplot(2,5,i+6)\n",
        "  plt.imshow(nines[i],cmap=\"Blues\")\n",
        "  plt.axis('off')\n"
      ],
      "execution_count": 0,
      "outputs": [
        {
          "output_type": "display_data",
          "data": {
            "image/png": "[encoded data removed]",
            "text/plain": [
              "<matplotlib.figure.Figure at 0x7ff9ad719048>"
            ]
          },
          "metadata": {
            "tags": []
          }
        }
      ]
    },
    {
      "metadata": {
        "id": "ixjrjHKNJJv8",
        "colab_type": "code",
        "outputId": "76655e43-9ec6-4956-919d-fc7050402798",
        "colab": {
          "base_uri": "https://localhost:8080/",
          "height": 1193
        }
      },
      "cell_type": "code",
      "source": [
        "# SVM Kernel Comparison\n",
        "\n",
        "# Train-test split\n",
        "X_train, X_test, y_train, y_test = train_test_split(np.vstack(digits[\"data\"]), digits[\"label\"], test_size=0.2)\n",
        "\n",
        "# Gridsearch over kernel, C, degree and gamma\n",
        "param_grids = [\n",
        "    {'kernel': ['linear'], 'C': [1, 10, 100]},\n",
        "    {'kernel': ['poly'], 'C': [1, 10, 100], 'degree': [2,3,4]},\n",
        "    {'kernel': ['rbf'], 'C': [1, 10, 100],'gamma': [10**-9,10**-8,10**-7]}\n",
        "]\n",
        "search = GridSearchCV(SVC(), param_grids, cv=3, n_jobs=-1, verbose=49, iid=True, return_train_score = False) # Setting some parameters to their default values to avoid some deprecation warnings\n",
        "search.fit(X_train, y_train)\n",
        "# Print best estimator parameters\n",
        "print(\"Best parameter (CV score=%0.3f):\" % search.best_score_)\n",
        "print(search.best_params_)"
      ],
      "execution_count": 0,
      "outputs": [
        {
          "output_type": "stream",
          "text": [
            "[CV]  C=1, gamma=1e-08, kernel=rbf, score=0.9183542269366763, total= 6.7min\n",
            "[CV] C=1, gamma=1e-08, kernel=rbf ....................................\n"
          ],
          "name": "stdout"
        },
        {
          "output_type": "stream",
          "text": [
            "[Parallel(n_jobs=-1)]: Done  40 tasks      | elapsed: 74.8min\n"
          ],
          "name": "stderr"
        },
        {
          "output_type": "stream",
          "text": [
            "[CV]  C=1, gamma=1e-09, kernel=rbf, score=0.8543564462544208, total=15.0min\n",
            "[CV] C=1, gamma=1e-07, kernel=rbf ....................................\n"
          ],
          "name": "stdout"
        },
        {
          "output_type": "stream",
          "text": [
            "[Parallel(n_jobs=-1)]: Done  41 tasks      | elapsed: 74.9min\n"
          ],
          "name": "stderr"
        },
        {
          "output_type": "stream",
          "text": [
            "[CV]  C=1, gamma=1e-07, kernel=rbf, score=0.9581191088260497, total= 3.5min\n",
            "[CV] C=1, gamma=1e-07, kernel=rbf ....................................\n"
          ],
          "name": "stdout"
        },
        {
          "output_type": "stream",
          "text": [
            "[Parallel(n_jobs=-1)]: Done  42 tasks      | elapsed: 78.5min\n"
          ],
          "name": "stderr"
        },
        {
          "output_type": "stream",
          "text": [
            "[CV]  C=1, gamma=1e-08, kernel=rbf, score=0.9138356017575823, total= 6.6min\n",
            "[CV] C=1, gamma=1e-07, kernel=rbf ....................................\n"
          ],
          "name": "stdout"
        },
        {
          "output_type": "stream",
          "text": [
            "[Parallel(n_jobs=-1)]: Done  43 tasks      | elapsed: 81.5min\n"
          ],
          "name": "stderr"
        },
        {
          "output_type": "stream",
          "text": [
            "[CV]  C=1, gamma=1e-07, kernel=rbf, score=0.9553198328511733, total= 3.5min\n",
            "[CV] C=10, gamma=1e-09, kernel=rbf ...................................\n"
          ],
          "name": "stdout"
        },
        {
          "output_type": "stream",
          "text": [
            "[Parallel(n_jobs=-1)]: Done  44 tasks      | elapsed: 81.9min\n"
          ],
          "name": "stderr"
        },
        {
          "output_type": "stream",
          "text": [
            "[CV]  C=1, gamma=1e-07, kernel=rbf, score=0.9545600685885757, total= 3.6min\n",
            "[CV] C=10, gamma=1e-09, kernel=rbf ...................................\n"
          ],
          "name": "stdout"
        },
        {
          "output_type": "stream",
          "text": [
            "[Parallel(n_jobs=-1)]: Done  45 tasks      | elapsed: 85.1min\n"
          ],
          "name": "stderr"
        },
        {
          "output_type": "stream",
          "text": [
            "[CV]  C=10, gamma=1e-09, kernel=rbf, score=0.918808911739503, total= 6.4min\n",
            "[CV] C=10, gamma=1e-09, kernel=rbf ...................................\n"
          ],
          "name": "stdout"
        },
        {
          "output_type": "stream",
          "text": [
            "[Parallel(n_jobs=-1)]: Done  46 tasks      | elapsed: 88.4min\n"
          ],
          "name": "stderr"
        },
        {
          "output_type": "stream",
          "text": [
            "[CV]  C=10, gamma=1e-09, kernel=rbf, score=0.9172827600985749, total= 6.6min\n",
            "[CV] C=10, gamma=1e-08, kernel=rbf ...................................\n"
          ],
          "name": "stdout"
        },
        {
          "output_type": "stream",
          "text": [
            "[Parallel(n_jobs=-1)]: Done  47 tasks      | elapsed: 91.7min\n"
          ],
          "name": "stderr"
        },
        {
          "output_type": "stream",
          "text": [
            "[CV]  C=10, gamma=1e-09, kernel=rbf, score=0.9121208873646983, total= 6.3min\n",
            "[CV] C=10, gamma=1e-08, kernel=rbf ...................................\n"
          ],
          "name": "stdout"
        },
        {
          "output_type": "stream",
          "text": [
            "[Parallel(n_jobs=-1)]: Done  48 tasks      | elapsed: 94.7min\n"
          ],
          "name": "stderr"
        },
        {
          "output_type": "stream",
          "text": [
            "[CV]  C=10, gamma=1e-08, kernel=rbf, score=0.9405526992287918, total= 3.4min\n",
            "[CV] C=10, gamma=1e-08, kernel=rbf ...................................\n"
          ],
          "name": "stdout"
        },
        {
          "output_type": "stream",
          "text": [
            "[Parallel(n_jobs=-1)]: Done  49 tasks      | elapsed: 95.0min\n"
          ],
          "name": "stderr"
        },
        {
          "output_type": "stream",
          "text": [
            "[CV]  C=10, gamma=1e-08, kernel=rbf, score=0.9364620165005894, total= 3.2min\n",
            "[CV] C=10, gamma=1e-07, kernel=rbf ...................................\n"
          ],
          "name": "stdout"
        },
        {
          "output_type": "stream",
          "text": [
            "[Parallel(n_jobs=-1)]: Done  50 tasks      | elapsed: 97.9min\n"
          ],
          "name": "stderr"
        },
        {
          "output_type": "stream",
          "text": [
            "[CV]  C=10, gamma=1e-08, kernel=rbf, score=0.9373057550101811, total= 3.4min\n",
            "[CV] C=10, gamma=1e-07, kernel=rbf ...................................\n"
          ],
          "name": "stdout"
        },
        {
          "output_type": "stream",
          "text": [
            "[Parallel(n_jobs=-1)]: Done  51 tasks      | elapsed: 98.4min\n"
          ],
          "name": "stderr"
        },
        {
          "output_type": "stream",
          "text": [
            "[CV]  C=10, gamma=1e-07, kernel=rbf, score=0.9686161096829478, total= 2.8min\n",
            "[CV] C=10, gamma=1e-07, kernel=rbf ...................................\n"
          ],
          "name": "stdout"
        },
        {
          "output_type": "stream",
          "text": [
            "[Parallel(n_jobs=-1)]: Done  52 tasks      | elapsed: 100.7min\n"
          ],
          "name": "stderr"
        },
        {
          "output_type": "stream",
          "text": [
            "[CV]  C=10, gamma=1e-07, kernel=rbf, score=0.9683917282760098, total= 2.9min\n",
            "[CV] C=100, gamma=1e-09, kernel=rbf ..................................\n"
          ],
          "name": "stdout"
        },
        {
          "output_type": "stream",
          "text": [
            "[Parallel(n_jobs=-1)]: Done  53 tasks      | elapsed: 101.3min\n"
          ],
          "name": "stderr"
        },
        {
          "output_type": "stream",
          "text": [
            "[CV]  C=10, gamma=1e-07, kernel=rbf, score=0.969456649876755, total= 2.7min\n",
            "[CV] C=100, gamma=1e-09, kernel=rbf ..................................\n"
          ],
          "name": "stdout"
        },
        {
          "output_type": "stream",
          "text": [
            "[Parallel(n_jobs=-1)]: Done  54 tasks      | elapsed: 103.4min\n"
          ],
          "name": "stderr"
        },
        {
          "output_type": "stream",
          "text": [
            "[CV]  C=100, gamma=1e-09, kernel=rbf, score=0.9355184233076264, total= 3.4min\n",
            "[CV] C=100, gamma=1e-09, kernel=rbf ..................................\n"
          ],
          "name": "stdout"
        },
        {
          "output_type": "stream",
          "text": [
            "[Parallel(n_jobs=-1)]: Done  55 tasks      | elapsed: 104.6min\n"
          ],
          "name": "stderr"
        },
        {
          "output_type": "stream",
          "text": [
            "[CV]  C=100, gamma=1e-09, kernel=rbf, score=0.9334619093539055, total= 3.2min\n",
            "[CV] C=100, gamma=1e-08, kernel=rbf ..................................\n"
          ],
          "name": "stdout"
        },
        {
          "output_type": "stream",
          "text": [
            "[Parallel(n_jobs=-1)]: Done  56 tasks      | elapsed: 106.7min\n"
          ],
          "name": "stderr"
        },
        {
          "output_type": "stream",
          "text": [
            "[CV]  C=100, gamma=1e-09, kernel=rbf, score=0.9326974600793055, total= 3.3min\n",
            "[CV] C=100, gamma=1e-08, kernel=rbf ..................................\n"
          ],
          "name": "stdout"
        },
        {
          "output_type": "stream",
          "text": [
            "[Parallel(n_jobs=-1)]: Done  57 tasks      | elapsed: 107.9min\n"
          ],
          "name": "stderr"
        },
        {
          "output_type": "stream",
          "text": [
            "[CV]  C=100, gamma=1e-08, kernel=rbf, score=0.9484790059982862, total= 2.5min\n",
            "[CV] C=100, gamma=1e-08, kernel=rbf ..................................\n"
          ],
          "name": "stdout"
        },
        {
          "output_type": "stream",
          "text": [
            "[Parallel(n_jobs=-1)]: Done  58 tasks      | elapsed: 109.1min\n"
          ],
          "name": "stderr"
        },
        {
          "output_type": "stream",
          "text": [
            "[CV]  C=100, gamma=1e-08, kernel=rbf, score=0.9457837779920711, total= 2.5min\n",
            "[CV] C=100, gamma=1e-07, kernel=rbf ..................................\n"
          ],
          "name": "stdout"
        },
        {
          "output_type": "stream",
          "text": [
            "[Parallel(n_jobs=-1)]: Done  59 tasks      | elapsed: 110.5min\n"
          ],
          "name": "stderr"
        },
        {
          "output_type": "stream",
          "text": [
            "[CV]  C=100, gamma=1e-08, kernel=rbf, score=0.9456649876754903, total= 2.4min\n",
            "[CV] C=100, gamma=1e-07, kernel=rbf ..................................\n"
          ],
          "name": "stdout"
        },
        {
          "output_type": "stream",
          "text": [
            "[Parallel(n_jobs=-1)]: Done  60 tasks      | elapsed: 111.6min\n"
          ],
          "name": "stderr"
        },
        {
          "output_type": "stream",
          "text": [
            "[CV]  C=100, gamma=1e-07, kernel=rbf, score=0.9701156812339332, total= 2.8min\n",
            "[CV] C=100, gamma=1e-07, kernel=rbf ..................................\n",
            "[CV]  C=100, gamma=1e-07, kernel=rbf, score=0.9692489017464909, total= 2.8min\n",
            "[CV]  C=100, gamma=1e-07, kernel=rbf, score=0.9703140070731968, total= 2.7min\n"
          ],
          "name": "stdout"
        },
        {
          "output_type": "stream",
          "text": [
            "[Parallel(n_jobs=-1)]: Done  63 out of  63 | elapsed: 116.0min finished\n"
          ],
          "name": "stderr"
        },
        {
          "output_type": "stream",
          "text": [
            "Best parameter (CV score=0.970):\n",
            "{'C': 100, 'gamma': 1e-07, 'kernel': 'rbf'}\n"
          ],
          "name": "stdout"
        }
      ]
    },
    {
      "metadata": {
        "id": "ZBVvG19NJxmu",
        "colab_type": "code",
        "outputId": "a5d1c6cc-e9a5-45c3-8c2f-f733f54167ed",
        "colab": {
          "base_uri": "https://localhost:8080/",
          "height": 437
        }
      },
      "cell_type": "code",
      "source": [
        "# Print classification report for best estimator\n",
        "print(classification_report(y_test,search.best_estimator_.predict(X_test)))\n",
        "print(confusion_matrix(y_test,search.best_estimator_.predict(X_test)))"
      ],
      "execution_count": 0,
      "outputs": [
        {
          "output_type": "stream",
          "text": [
            "             precision    recall  f1-score   support\n",
            "\n",
            "        0.0       0.98      0.98      0.98       675\n",
            "        1.0       0.99      1.00      0.99       815\n",
            "        2.0       0.95      0.98      0.97       683\n",
            "        3.0       0.96      0.96      0.96       740\n",
            "        4.0       0.97      0.98      0.97       654\n",
            "        5.0       0.97      0.97      0.97       634\n",
            "        6.0       0.98      0.99      0.99       684\n",
            "        7.0       0.98      0.97      0.98       744\n",
            "        8.0       0.98      0.96      0.97       636\n",
            "        9.0       0.97      0.96      0.97       735\n",
            "\n",
            "avg / total       0.97      0.97      0.97      7000\n",
            "\n",
            "[[663   1   5   1   1   1   1   0   2   0]\n",
            " [  1 811   0   1   0   0   0   1   0   1]\n",
            " [  1   0 668   4   3   2   0   3   2   0]\n",
            " [  1   1  10 708   0   9   0   5   3   3]\n",
            " [  0   1   4   0 638   0   2   0   0   9]\n",
            " [  1   0   4   8   0 613   4   1   1   2]\n",
            " [  4   0   0   0   1   1 678   0   0   0]\n",
            " [  1   2   6   0   7   0   0 723   1   4]\n",
            " [  2   3   4   6   3   2   4   0 608   4]\n",
            " [  0   2   0   8   7   2   0   6   3 707]]\n"
          ],
          "name": "stdout"
        }
      ]
    },
    {
      "metadata": {
        "id": "EbKq57GQqT7v",
        "colab_type": "code",
        "outputId": "c8c15ce5-3547-4432-f707-2ec8bd3ff62f",
        "colab": {
          "base_uri": "https://localhost:8080/",
          "height": 1062
        }
      },
      "cell_type": "code",
      "source": [
        "# Collect result data\n",
        "results = pd.DataFrame(search.cv_results_)\n",
        "\n",
        "\n",
        "# Report average training times for each kernel\n",
        "lin_times=[]\n",
        "pol_times=[]\n",
        "rbf_times=[]\n",
        "best_times=[0,0,0]\n",
        "best_est=[None,None,None]\n",
        "for row in results.iterrows():\n",
        "  if row[1][5]=='linear':\n",
        "    lin_times.append(row[1][0])\n",
        "    if row[1][12]>best_times[0]:\n",
        "      best_times[0] = row[1][12]\n",
        "      best_est[0]=row[1][8]\n",
        "  if row[1][5]=='poly':\n",
        "    pol_times.append(row[1][0])\n",
        "    if row[1][12]>best_times[1]:\n",
        "      best_times[1] = row[1][12]\n",
        "      best_est[1]=row[1][8]\n",
        "  if row[1][5]=='rbf':\n",
        "    rbf_times.append(row[1][0])\n",
        "    if row[1][12]>best_times[2]:\n",
        "      best_times[2] = row[1][12]\n",
        "      best_est[2]=row[1][8]\n",
        "    \n",
        "print(\"Mean Training Times:\")\n",
        "print(\"Linear Kernel: \" + str(sum(lin_times)/len(lin_times)) + \" seconds.\")\n",
        "print(\"Polynomial Kernel: \" + str(sum(pol_times)/len(pol_times)) + \" seconds.\")\n",
        "print(\"Radial Basis Function Kernel: \" + str(sum(rbf_times)/len(rbf_times)) + \" seconds.\")\n",
        "\n",
        "# Report error on test set with classification report, for best estimator of each kernel\n",
        "lin_est=SVC(kernel='linear',C=best_est[0][\"C\"]).fit(X_train,y_train)\n",
        "lin_pred=lin_est.predict(X_test)\n",
        "pol_est=SVC(kernel='poly',C=best_est[1][\"C\"],degree=best_est[1][\"degree\"]).fit(X_train,y_train)\n",
        "pol_pred=lin_est.predict(X_test)\n",
        "rbf_est=SVC(kernel='rbf',C=best_est[2][\"C\"],gamma=best_est[2][\"gamma\"]).fit(X_train,y_train)\n",
        "rbf_pred=lin_est.predict(X_test)\n",
        "\n",
        "print(\"Classification Reports:\")\n",
        "print(\"Linear Kernel:\")\n",
        "print(classification_report(y_test,lin_pred))\n",
        "print(\"Polynomial Kernel:\")\n",
        "print(classification_report(y_test,pol_pred))\n",
        "print(\"Radial Basis Function Kernel:\")\n",
        "print(classification_report(y_test,rbf_pred))"
      ],
      "execution_count": 0,
      "outputs": [
        {
          "output_type": "stream",
          "text": [
            "Mean Training Times:\n",
            "Linear Kernel: 63.99365679423014 seconds.\n",
            "Polynomial Kernel: 82.97143636809454 seconds.\n",
            "Radial Basis Function Kernel: 155.04097125265332 seconds.\n"
          ],
          "name": "stdout"
        },
        {
          "output_type": "stream",
          "text": [
            "C:\\Users\\rabin\\anaconda3\\lib\\site-packages\\sklearn\\svm\\base.py:196: FutureWarning: The default value of gamma will change from 'auto' to 'scale' in version 0.22 to account better for unscaled features. Set gamma explicitly to 'auto' or 'scale' to avoid this warning.\n",
            "  \"avoid this warning.\", FutureWarning)\n"
          ],
          "name": "stderr"
        },
        {
          "output_type": "stream",
          "text": [
            "Classification Reports:\n",
            "Linear Kernel:\n",
            "              precision    recall  f1-score   support\n",
            "\n",
            "         0.0       0.93      0.96      0.94       497\n",
            "         1.0       0.95      0.98      0.96       519\n",
            "         2.0       0.86      0.90      0.88       470\n",
            "         3.0       0.85      0.88      0.87       523\n",
            "         4.0       0.90      0.95      0.92       498\n",
            "         5.0       0.86      0.88      0.87       445\n",
            "         6.0       0.95      0.93      0.94       478\n",
            "         7.0       0.93      0.92      0.92       558\n",
            "         8.0       0.92      0.81      0.86       478\n",
            "         9.0       0.91      0.84      0.87       534\n",
            "\n",
            "   micro avg       0.91      0.91      0.91      5000\n",
            "   macro avg       0.91      0.90      0.90      5000\n",
            "weighted avg       0.91      0.91      0.91      5000\n",
            "\n",
            "Polynomial Kernel:\n",
            "              precision    recall  f1-score   support\n",
            "\n",
            "         0.0       0.93      0.96      0.94       497\n",
            "         1.0       0.95      0.98      0.96       519\n",
            "         2.0       0.86      0.90      0.88       470\n",
            "         3.0       0.85      0.88      0.87       523\n",
            "         4.0       0.90      0.95      0.92       498\n",
            "         5.0       0.86      0.88      0.87       445\n",
            "         6.0       0.95      0.93      0.94       478\n",
            "         7.0       0.93      0.92      0.92       558\n",
            "         8.0       0.92      0.81      0.86       478\n",
            "         9.0       0.91      0.84      0.87       534\n",
            "\n",
            "   micro avg       0.91      0.91      0.91      5000\n",
            "   macro avg       0.91      0.90      0.90      5000\n",
            "weighted avg       0.91      0.91      0.91      5000\n",
            "\n",
            "Radial Basis Function Kernel:\n",
            "              precision    recall  f1-score   support\n",
            "\n",
            "         0.0       0.93      0.96      0.94       497\n",
            "         1.0       0.95      0.98      0.96       519\n",
            "         2.0       0.86      0.90      0.88       470\n",
            "         3.0       0.85      0.88      0.87       523\n",
            "         4.0       0.90      0.95      0.92       498\n",
            "         5.0       0.86      0.88      0.87       445\n",
            "         6.0       0.95      0.93      0.94       478\n",
            "         7.0       0.93      0.92      0.92       558\n",
            "         8.0       0.92      0.81      0.86       478\n",
            "         9.0       0.91      0.84      0.87       534\n",
            "\n",
            "   micro avg       0.91      0.91      0.91      5000\n",
            "   macro avg       0.91      0.90      0.90      5000\n",
            "weighted avg       0.91      0.91      0.91      5000\n",
            "\n"
          ],
          "name": "stdout"
        }
      ]
    },
    {
      "metadata": {
        "id": "autQdPvvJLwc",
        "colab_type": "code",
        "outputId": "1ee03110-5c1b-4a9c-ffc2-d2c1c52f4f49",
        "colab": {
          "base_uri": "https://localhost:8080/",
          "height": 34
        }
      },
      "cell_type": "code",
      "source": [
        ""
      ],
      "execution_count": 0,
      "outputs": [
        {
          "output_type": "execute_result",
          "data": {
            "text/plain": [
              "{'C': 100, 'gamma': 1e-07, 'kernel': 'rbf'}"
            ]
          },
          "metadata": {
            "tags": []
          },
          "execution_count": 33
        }
      ]
    },
    {
      "metadata": {
        "id": "4bsOo0R12hmq",
        "colab_type": "code",
        "colab": {}
      },
      "cell_type": "code",
      "source": [
        ""
      ],
      "execution_count": 0,
      "outputs": []
    }
  ]
}