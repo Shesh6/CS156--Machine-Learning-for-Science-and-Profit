{
  "nbformat": 4,
  "nbformat_minor": 0,
  "metadata": {
    "colab": {
      "name": "CS156PW81.ipynb",
      "version": "0.3.2",
      "provenance": [],
      "collapsed_sections": []
    },
    "kernelspec": {
      "display_name": "Python 3",
      "language": "python",
      "name": "python3"
    }
  },
  "cells": [
    {
      "metadata": {
        "id": "kLeKs62KM-mP",
        "colab_type": "text"
      },
      "cell_type": "markdown",
      "source": [
        "### CS156 Pre-Class Work for Session 8.1\n",
        "\n",
        "#### Training Complexity"
      ]
    },
    {
      "metadata": {
        "id": "Ut1MzBVD41uH",
        "colab_type": "code",
        "colab": {}
      },
      "cell_type": "code",
      "source": [
        "'''Write a python function from which you can generate synthetic datasets of an arbitrary size \n",
        "(e.g. a mixture model of two Gaussians)\n",
        "By training SVMs on datasets of different sizes show:\n",
        "\n",
        "1. how the training time scales.\n",
        "2. how the classification time scales (on a sample of 1000 unseen datapoints).\n",
        "3. the accuracy of the classifier (on a sample of 1000 unseen datapoints).\n",
        "\n",
        "Choose a kernel that you think is appropriate to the task at hand. \n",
        "Come to class with your code and results in a plaintext format suitable for pasting into a poll.'''\n",
        "\n",
        "from sklearn.datasets import make_classification\n",
        "from sklearn.svm import SVC\n",
        "import time\n",
        "from sklearn.model_selection import train_test_split\n",
        "import matplotlib.pyplot as plt\n",
        "\n",
        "def fake_data(n):\n",
        "    X1, Y1 = make_classification(n_samples=n, n_features=2, n_redundant=0, n_informative=1,\n",
        "                             n_clusters_per_class=1)\n",
        "    return X1, Y1\n",
        "\n",
        "x, y = fake_data(6000)\n",
        "\n",
        "X_train, X_test, y_train, y_test = train_test_split(x, y, test_size=1000, random_state=42)"
      ],
      "execution_count": 0,
      "outputs": []
    },
    {
      "metadata": {
        "id": "5iA-kZkn41uN",
        "colab_type": "code",
        "colab": {}
      },
      "cell_type": "code",
      "source": [
        "clf = SVC(gamma='auto')\n",
        "\n",
        "train_time_scale = []\n",
        "for i in range(100, 6000,100):\n",
        "    start = time.time()\n",
        "    clf.fit(X_train[:i], y_train[:i])\n",
        "    end = time.time()\n",
        "    train_time_scale.append(end-start)"
      ],
      "execution_count": 0,
      "outputs": []
    },
    {
      "metadata": {
        "id": "Z53A-lKJ41uS",
        "colab_type": "code",
        "outputId": "8ff3e36e-1bb8-4bc8-cc27-2ff6fbffbf27",
        "colab": {
          "base_uri": "https://localhost:8080/",
          "height": 374
        }
      },
      "cell_type": "code",
      "source": [
        "plt.figure(figsize=(10,6))\n",
        "plt.scatter(range(59), train_time_scale, alpha=0.5)\n",
        "plt.show()"
      ],
      "execution_count": 0,
      "outputs": [
        {
          "output_type": "display_data",
          "data": {
            "image/png": "[encoded data removed]",
            "text/plain": [
              "<matplotlib.figure.Figure at 0x7fc60522bef0>"
            ]
          },
          "metadata": {
            "tags": []
          }
        }
      ]
    },
    {
      "metadata": {
        "id": "yCiORs4O41uc",
        "colab_type": "code",
        "colab": {}
      },
      "cell_type": "code",
      "source": [
        "test_time_scale = []\n",
        "for i in range(1, 1000,10):\n",
        "    start = time.time()\n",
        "    clf.predict(X_test[:i])\n",
        "    end = time.time()\n",
        "    test_time_scale.append(end-start)"
      ],
      "execution_count": 0,
      "outputs": []
    },
    {
      "metadata": {
        "id": "LBzBiczS41uh",
        "colab_type": "code",
        "outputId": "f7f8d7c6-2152-4556-a6cf-20ca3e4c096e",
        "colab": {
          "base_uri": "https://localhost:8080/",
          "height": 374
        }
      },
      "cell_type": "code",
      "source": [
        "plt.figure(figsize=(10,6))\n",
        "plt.scatter(range(100), test_time_scale, alpha=0.5)\n",
        "plt.show()"
      ],
      "execution_count": 0,
      "outputs": [
        {
          "output_type": "display_data",
          "data": {
            "image/png": "[encoded data removed]",
            "text/plain": [
              "<matplotlib.figure.Figure at 0x7fc6028b7be0>"
            ]
          },
          "metadata": {
            "tags": []
          }
        }
      ]
    },
    {
      "metadata": {
        "id": "m34pADA-41uo",
        "colab_type": "code",
        "outputId": "9f151467-fdd1-4e9b-ec80-c3cab1acc824",
        "colab": {
          "base_uri": "https://localhost:8080/",
          "height": 34
        }
      },
      "cell_type": "code",
      "source": [
        "print(clf.score(X_test, y_test))"
      ],
      "execution_count": 0,
      "outputs": [
        {
          "output_type": "stream",
          "text": [
            "0.922\n"
          ],
          "name": "stdout"
        }
      ]
    },
    {
      "metadata": {
        "id": "MpE2unSa6PNK",
        "colab_type": "code",
        "colab": {}
      },
      "cell_type": "code",
      "source": [
        ""
      ],
      "execution_count": 0,
      "outputs": []
    }
  ]
}