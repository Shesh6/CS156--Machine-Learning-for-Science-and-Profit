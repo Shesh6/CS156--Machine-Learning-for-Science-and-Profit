{
  "nbformat": 4,
  "nbformat_minor": 0,
  "metadata": {
    "colab": {
      "name": "CS156PW141.ipynb",
      "version": "0.3.2",
      "provenance": [],
      "collapsed_sections": []
    },
    "kernelspec": {
      "display_name": "Python 2",
      "language": "python",
      "name": "python2"
    }
  },
  "cells": [
    {
      "metadata": {
        "id": "MbhWw2wBPGfc",
        "colab_type": "text"
      },
      "cell_type": "markdown",
      "source": [
        "### CS156 Pre-Class Work for Session 14.1\n",
        "\n",
        "#### Hopfield Networks\n"
      ]
    },
    {
      "metadata": {
        "id": "17j2_6h2YvhK",
        "colab_type": "text"
      },
      "cell_type": "markdown",
      "source": [
        "## Hopfield Networks\n",
        "\n",
        "Implement a Hopfield Network, and perform the basic analysis below. *I am working with sample code from [here](http://codeaffectionate.blogspot.com/2013/05/fun-with-hopfield-and-numpy.html). *\n",
        "\n",
        "1 . **Store**\n",
        "\n",
        "Implement a python function which is able to store a memory in a Hopfield network.\n",
        "\n",
        "2 . **Recall**\n",
        "\n",
        "Implement a python function which runs the recall algorithm for an initial (corrupted) memory. Make sure to include a stopping criteria\n",
        "\n",
        "3 . **Capacity**\n",
        "\n",
        "Write a function to determine the capacity for a Hopfield network of a given size. This function should have a size parameter, and then initialize an empty Hopfield network. It must then store a random memory and test whether the network is able to recall the correct memory if given a pattern corrupted by a single bit. The function must then return the largest number of memories that were stored and successfully recalled.\n",
        "\n",
        "4 . **Scaling behavior**\n",
        "\n",
        "Produce a plot showing capacity as a function of network size. What is the scaling behavior?\n",
        "\n",
        "5 . **(Optional) Asynchronous updates**\n",
        "\n",
        "Change your implementation, so that the state is updated asynchronously. Find a state that didn’t converge in your original implementation, and show that it does converge in your new implementation."
      ]
    },
    {
      "metadata": {
        "id": "UvgC1P-1YvhM",
        "colab_type": "code",
        "colab": {}
      },
      "cell_type": "code",
      "source": [
        "import numpy as np\n",
        "from pylab import imshow, cm, show\n",
        "import matplotlib.pyplot as plt\n",
        "\n",
        "\"\"\"\n",
        "Adapted from: http://codeaffectionate.blogspot.com/2013/05/fun-with-hopfield-and-numpy.html\n",
        "\"\"\""
      ],
      "execution_count": 0,
      "outputs": []
    },
    {
      "metadata": {
        "id": "FgWNAEMyYvhR",
        "colab_type": "text"
      },
      "cell_type": "markdown",
      "source": [
        "### The Data\n",
        "Here are the original patterns that we want the Hopfield to remember. We convert them to a binary pattern of -1 and 1s."
      ]
    },
    {
      "metadata": {
        "id": "1VuObo3yYvhR",
        "colab_type": "code",
        "colab": {}
      },
      "cell_type": "code",
      "source": [
        "A = \"\"\"\n",
        ".XXX.\n",
        "X...X\n",
        "XXXXX\n",
        "X...X\n",
        "X...X\n",
        "\"\"\"\n",
        " \n",
        "Z = \"\"\"\n",
        "XXXXX\n",
        "...X.\n",
        "..X..\n",
        ".X...\n",
        "XXXXX\n",
        "\"\"\""
      ],
      "execution_count": 0,
      "outputs": []
    },
    {
      "metadata": {
        "id": "aIB2QmupYvhW",
        "colab_type": "code",
        "colab": {}
      },
      "cell_type": "code",
      "source": [
        "def to_pattern(letter):\n",
        "    return np.array([+1 if c=='X' else -1 for c in letter.replace('\\n','')])"
      ],
      "execution_count": 0,
      "outputs": []
    },
    {
      "metadata": {
        "id": "vBaoGIkkYvha",
        "colab_type": "code",
        "colab": {}
      },
      "cell_type": "code",
      "source": [
        "def display_img(pattern):\n",
        "    imshow(pattern.reshape((5,5)), cmap=cm.binary, interpolation='nearest')\n",
        "    show()"
      ],
      "execution_count": 0,
      "outputs": []
    },
    {
      "metadata": {
        "id": "vLlIP2eoYvhd",
        "colab_type": "code",
        "outputId": "6571a90d-37e3-4571-9903-5bedb745b5fd",
        "colab": {}
      },
      "cell_type": "code",
      "source": [
        "A_pattern = to_pattern(A)\n",
        "display_img(A_pattern)"
      ],
      "execution_count": 0,
      "outputs": [
        {
          "output_type": "display_data",
          "data": {
            "image/png": "[encoded data removed]",
            "text/plain": [
              "<matplotlib.figure.Figure at 0x114431350>"
            ]
          },
          "metadata": {
            "tags": []
          }
        }
      ]
    },
    {
      "metadata": {
        "id": "P2tw4JthYvhk",
        "colab_type": "text"
      },
      "cell_type": "markdown",
      "source": [
        "### Training the network/storage\n",
        "To train a Hopfield network we compute of the outer products of all pattern vectors with each others and sum over the resulting matrix. This gives us the weights of the edges between the nodes (which are the pixels of the image)."
      ]
    },
    {
      "metadata": {
        "id": "jXbH7IXUYvhk",
        "colab_type": "code",
        "colab": {}
      },
      "cell_type": "code",
      "source": [
        "patterns = np.array([to_pattern(A), to_pattern(Z)])"
      ],
      "execution_count": 0,
      "outputs": []
    },
    {
      "metadata": {
        "id": "kJTY1ZD3Yvhp",
        "colab_type": "code",
        "colab": {}
      },
      "cell_type": "code",
      "source": [
        "def training(patterns):\n",
        "    row, col = patterns.shape    #shape of the network\n",
        "    W = np.zeros((col, col))     #weight matrix\n",
        "    \n",
        "    for p in patterns:\n",
        "        W = W + np.outer(p,p)\n",
        "        \n",
        "    W[np.diag_indices(col)] = 0  #setting the diagonals equal to 0\n",
        "    return W/row"
      ],
      "execution_count": 0,
      "outputs": []
    },
    {
      "metadata": {
        "id": "BuTARrNKYvht",
        "colab_type": "code",
        "colab": {}
      },
      "cell_type": "code",
      "source": [
        "weights = training(patterns)"
      ],
      "execution_count": 0,
      "outputs": []
    },
    {
      "metadata": {
        "id": "A2Lki5ZhYvhz",
        "colab_type": "text"
      },
      "cell_type": "markdown",
      "source": [
        "### Recall\n",
        "To recall a stored pattern from a Hopfield network the dot product of the pattern vector and the weight matrix is computed. We repeat this until the pattern vector is stable (so we need a stopping condition!)."
      ]
    },
    {
      "metadata": {
        "id": "zBOZLb7vYvh0",
        "colab_type": "code",
        "colab": {}
      },
      "cell_type": "code",
      "source": [
        "def recall(W, pattern, steps=5, verbose=False):\n",
        "    sgn = np.vectorize(lambda x: -1 if x<0 else +1)\n",
        "    \n",
        "    for i in xrange(steps):                  #default stopping condition  \n",
        "        pattern = sgn(np.dot(pattern,W))     #is 5 iterations\n",
        "        if verbose == True:\n",
        "            print \"After iteration %d:\" %i\n",
        "            display_img(pattern)\n",
        "        \n",
        "    return pattern"
      ],
      "execution_count": 0,
      "outputs": []
    },
    {
      "metadata": {
        "id": "OaFgSUj2Yvh5",
        "colab_type": "code",
        "outputId": "02eb3779-ba1a-4be5-bd6e-4a5be7ec3a1b",
        "colab": {}
      },
      "cell_type": "code",
      "source": [
        "Z_modified = \"\"\"\n",
        ".X.X.\n",
        "X..X.\n",
        ".....\n",
        "X.X..\n",
        "X..X.\n",
        "\"\"\"\n",
        "display_img(to_pattern(Z_modified))"
      ],
      "execution_count": 0,
      "outputs": [
        {
          "output_type": "display_data",
          "data": {
            "image/png": "[encoded data removed]",
            "text/plain": [
              "<matplotlib.figure.Figure at 0x1144a4bd0>"
            ]
          },
          "metadata": {
            "tags": []
          }
        }
      ]
    },
    {
      "metadata": {
        "id": "6i1XRT4QYvh9",
        "colab_type": "code",
        "outputId": "3331a48c-c3b0-4a6c-938b-2524a77bf9a6",
        "colab": {}
      },
      "cell_type": "code",
      "source": [
        "corrected_pattern = recall(weights, to_pattern(Z_modified), 2, True)"
      ],
      "execution_count": 0,
      "outputs": [
        {
          "output_type": "stream",
          "text": [
            "After iteration 0:\n"
          ],
          "name": "stdout"
        },
        {
          "output_type": "display_data",
          "data": {
            "image/png": "[encoded data removed]",
            "text/plain": [
              "<matplotlib.figure.Figure at 0x1120f9090>"
            ]
          },
          "metadata": {
            "tags": []
          }
        },
        {
          "output_type": "stream",
          "text": [
            "After iteration 1:\n"
          ],
          "name": "stdout"
        },
        {
          "output_type": "display_data",
          "data": {
            "image/png": "[encoded data removed]",
            "text/plain": [
              "<matplotlib.figure.Figure at 0x11c978210>"
            ]
          },
          "metadata": {
            "tags": []
          }
        }
      ]
    },
    {
      "metadata": {
        "id": "QuFRKmgLYviC",
        "colab_type": "text"
      },
      "cell_type": "markdown",
      "source": [
        "### Capacity\n",
        "Write a function to determine the capacity for a Hopfield network of a given size. This function should have a size parameter, and then initialize an empty Hopfield network. It must then store a random memory and test whether the network is able to recall the correct memory if given a pattern corrupted by a single bit. The function must then return the largest number of memories that were stored and successfully recalled."
      ]
    },
    {
      "metadata": {
        "id": "kNRTVCzXYviD",
        "colab_type": "code",
        "colab": {}
      },
      "cell_type": "code",
      "source": [
        "def capacity(size):\n",
        "    \"\"\"\n",
        "    Generates corrupted patterns, trains on the patterns and\n",
        "    then tests if the network was able to correctly recall the\n",
        "    corrupted pattern.\n",
        "    \"\"\"\n",
        "    num = 1                   \n",
        "    \n",
        "    while True:\n",
        "        patterns = generate_patterns(num, size)\n",
        "        patterns = np.reshape(patterns, (num,size))\n",
        "\n",
        "        corrupt_patterns = [p for p in corrupt(patterns)]\n",
        "        corrupt_patterns = np.reshape(corrupt_patterns, (num,size))\n",
        "        \n",
        "        weights = training(patterns)\n",
        "        recalled_patterns = recall(weights, corrupt_patterns)\n",
        "\n",
        "        if np.any(np.not_equal(recalled_patterns,patterns)):\n",
        "            break\n",
        "        else:\n",
        "            num +=1 \n",
        "        \n",
        "    return num\n",
        "\n",
        "def generate_patterns(num, size):\n",
        "    #generate an array with num random patterns of length row*col\n",
        "    patterns = []\n",
        "    for _ in range(num):\n",
        "        patterns.append(np.random.choice((-1,1),size=size))\n",
        "    return patterns\n",
        "    \n",
        "def corrupt(pattern):\n",
        "    #corrupt a single input pattern by 1 element \n",
        "    i = np.random.randint((np.shape(pattern)[1]))\n",
        "    pattern[0][i] = -pattern[0][i]\n",
        "    return (pattern)"
      ],
      "execution_count": 0,
      "outputs": []
    },
    {
      "metadata": {
        "id": "5aXpvCmOYviI",
        "colab_type": "text"
      },
      "cell_type": "markdown",
      "source": [
        "### Scaling behavior\n",
        "Testing the capacity of different sizes of Hopnetworks. Averaging over the results of several trials to smoothen out the pattern."
      ]
    },
    {
      "metadata": {
        "id": "8RiEp4VXYviJ",
        "colab_type": "code",
        "outputId": "7a1a1869-ba78-4c4c-e7c8-795f15864120",
        "colab": {}
      },
      "cell_type": "code",
      "source": [
        "patterns_stored = []\n",
        "netw_size = [x for x in range(10,500,10)]\n",
        "\n",
        "for size in netw_size:\n",
        "    cap = []\n",
        "    for i in range(7):\n",
        "        cap.append(capacity(size))\n",
        "    mean_cap = np.average(cap)\n",
        "    patterns_stored.append(mean_cap)\n",
        "\n",
        "plt.plot(netw_size, patterns_stored)\n",
        "plt.xlabel(\"Network Size\")\n",
        "plt.ylabel(\"Number of patterns accurately stored and recalled\")\n",
        "plt.show()"
      ],
      "execution_count": 0,
      "outputs": [
        {
          "output_type": "display_data",
          "data": {
            "image/png": "[encoded data removed]",
            "text/plain": [
              "<matplotlib.figure.Figure at 0x11c88e510>"
            ]
          },
          "metadata": {
            "tags": []
          }
        }
      ]
    },
    {
      "metadata": {
        "id": "SL8jbSjZYviP",
        "colab_type": "code",
        "colab": {}
      },
      "cell_type": "code",
      "source": [
        ""
      ],
      "execution_count": 0,
      "outputs": []
    }
  ]
}